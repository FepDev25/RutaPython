{
 "cells": [
  {
   "cell_type": "markdown",
   "id": "ebd2dc37",
   "metadata": {},
   "source": [
    "# Ejemplo 1:"
   ]
  },
  {
   "cell_type": "code",
   "execution_count": 1,
   "id": "8da3a700",
   "metadata": {},
   "outputs": [],
   "source": [
    "from sympy import *"
   ]
  },
  {
   "cell_type": "code",
   "execution_count": 2,
   "id": "3717b889",
   "metadata": {},
   "outputs": [],
   "source": [
    "# Definir las variables\n",
    "t, k, Ta, C = symbols('t k Ta C')\n",
    "T = Function('T')"
   ]
  },
  {
   "cell_type": "code",
   "execution_count": 3,
   "id": "9cdbf387",
   "metadata": {},
   "outputs": [
    {
     "data": {
      "text/latex": [
       "$\\displaystyle \\frac{d}{d t} T{\\left(t \\right)} = k \\left(- Ta + T{\\left(t \\right)}\\right)$"
      ],
      "text/plain": [
       "Eq(Derivative(T(t), t), k*(-Ta + T(t)))"
      ]
     },
     "execution_count": 3,
     "metadata": {},
     "output_type": "execute_result"
    }
   ],
   "source": [
    "# Definir la ecuación diferencial\n",
    "ecuacion_diferencial = Eq(T(t).diff(t), +k * (T(t) - Ta))\n",
    "ecuacion_diferencial"
   ]
  },
  {
   "cell_type": "code",
   "execution_count": 4,
   "id": "9d7f9ece",
   "metadata": {},
   "outputs": [
    {
     "data": {
      "text/latex": [
       "$\\displaystyle T{\\left(t \\right)} = C_{1} e^{k t} + Ta$"
      ],
      "text/plain": [
       "Eq(T(t), C1*exp(k*t) + Ta)"
      ]
     },
     "execution_count": 4,
     "metadata": {},
     "output_type": "execute_result"
    }
   ],
   "source": [
    "# Resolver la ecuación diferencial\n",
    "solucion = dsolve(ecuacion_diferencial)\n",
    "\n",
    "# Mostrar la solución\n",
    "solucion"
   ]
  },
  {
   "cell_type": "code",
   "execution_count": 5,
   "id": "9e3d83b0",
   "metadata": {},
   "outputs": [
    {
     "data": {
      "text/latex": [
       "$\\displaystyle T{\\left(t \\right)} = C_{1} e^{k t} + 21$"
      ],
      "text/plain": [
       "Eq(T(t), C1*exp(k*t) + 21)"
      ]
     },
     "execution_count": 5,
     "metadata": {},
     "output_type": "execute_result"
    }
   ],
   "source": [
    "# Sustituir Ta en la solución general\n",
    "solucion_especifica = solucion.subs(Ta, 21)\n",
    "\n",
    "# Mostrar la solución específica\n",
    "solucion_especifica"
   ]
  },
  {
   "cell_type": "code",
   "execution_count": 6,
   "id": "7556fc51",
   "metadata": {},
   "outputs": [
    {
     "data": {
      "text/latex": [
       "$\\displaystyle 95 = C_{1} + 21$"
      ],
      "text/plain": [
       "Eq(95, C1 + 21)"
      ]
     },
     "execution_count": 6,
     "metadata": {},
     "output_type": "execute_result"
    }
   ],
   "source": [
    "# Definir la condición inicial\n",
    "t_0 = 0 # Tiempo inicial\n",
    "T0 = 95 # Temperatura\n",
    "\n",
    "# Sustituir la condición inicial en la solución específica\n",
    "solucion_con_condicion_inicial = solucion_especifica.subs({T(t): T0, t:t_0})\n",
    "solucion_con_condicion_inicial"
   ]
  },
  {
   "cell_type": "code",
   "execution_count": 7,
   "id": "d171a3d7",
   "metadata": {},
   "outputs": [
    {
     "data": {
      "text/latex": [
       "$\\displaystyle 74$"
      ],
      "text/plain": [
       "74"
      ]
     },
     "execution_count": 7,
     "metadata": {},
     "output_type": "execute_result"
    }
   ],
   "source": [
    "solx = solve(solucion_con_condicion_inicial)\n",
    "constante = solx[0]\n",
    "constante"
   ]
  },
  {
   "cell_type": "code",
   "execution_count": 8,
   "id": "e6bc88bd",
   "metadata": {},
   "outputs": [
    {
     "data": {
      "text/latex": [
       "$\\displaystyle T{\\left(t \\right)} = 74 e^{k t} + 21$"
      ],
      "text/plain": [
       "Eq(T(t), 74*exp(k*t) + 21)"
      ]
     },
     "execution_count": 8,
     "metadata": {},
     "output_type": "execute_result"
    }
   ],
   "source": [
    "solucion_con_constante = solucion_especifica.subs({'C1': constante})\n",
    "solucion_con_constante"
   ]
  },
  {
   "cell_type": "code",
   "execution_count": 9,
   "id": "570b8e81",
   "metadata": {},
   "outputs": [
    {
     "data": {
      "text/latex": [
       "$\\displaystyle 80 = 74 e^{5 k} + 21$"
      ],
      "text/plain": [
       "Eq(80, 74*exp(5*k) + 21)"
      ]
     },
     "execution_count": 9,
     "metadata": {},
     "output_type": "execute_result"
    }
   ],
   "source": [
    "solucion = solucion_con_constante.subs({T(t):80 , t:5})\n",
    "solucion"
   ]
  },
  {
   "cell_type": "code",
   "execution_count": 10,
   "id": "b1108091",
   "metadata": {},
   "outputs": [
    {
     "data": {
      "text/latex": [
       "$\\displaystyle -0.0453$"
      ],
      "text/plain": [
       "-0.0453"
      ]
     },
     "execution_count": 10,
     "metadata": {},
     "output_type": "execute_result"
    }
   ],
   "source": [
    "soluciones = solve(solucion, k)\n",
    "\n",
    "soluciones_reales = [sol.evalf() for sol in soluciones if sol.is_real]\n",
    "soluciones_reales\n",
    "kx = soluciones_reales[0]\n",
    "kfinal = round(kx, 4)\n",
    "kfinal"
   ]
  },
  {
   "cell_type": "code",
   "execution_count": 11,
   "id": "ce139a50",
   "metadata": {},
   "outputs": [
    {
     "data": {
      "text/latex": [
       "$\\displaystyle 50 = 21 + 74 e^{- 0.0453 t}$"
      ],
      "text/plain": [
       "Eq(50, 21 + 74*exp(-0.0453*t))"
      ]
     },
     "execution_count": 11,
     "metadata": {},
     "output_type": "execute_result"
    }
   ],
   "source": [
    "soluciont = solucion_con_constante.subs({k:kfinal, T(t):50})\n",
    "soluciont"
   ]
  },
  {
   "cell_type": "code",
   "execution_count": 12,
   "id": "2667628c",
   "metadata": {},
   "outputs": [
    {
     "data": {
      "text/latex": [
       "$\\displaystyle 20.6774678832199$"
      ],
      "text/plain": [
       "20.6774678832199"
      ]
     },
     "execution_count": 12,
     "metadata": {},
     "output_type": "execute_result"
    }
   ],
   "source": [
    "soluciones_finales = solve(soluciont, t)\n",
    "soluciones_reales = [sol.evalf() for sol in soluciones_finales if sol.is_real]\n",
    "tiempo_respuesta = soluciones_reales[0]\n",
    "tiempo_respuesta"
   ]
  },
  {
   "cell_type": "code",
   "execution_count": 13,
   "id": "f0299651",
   "metadata": {},
   "outputs": [
    {
     "data": {
      "text/latex": [
       "$\\displaystyle 50 = 0.391896127338037 C_{1} + 21$"
      ],
      "text/plain": [
       "Eq(50, 0.391896127338037*C1 + 21)"
      ]
     },
     "execution_count": 13,
     "metadata": {},
     "output_type": "execute_result"
    }
   ],
   "source": [
    "# Temperatura = 50\n",
    "# tiempo: 20.67\n",
    "solucion_final = solucion_especifica.subs({T(t): 50, t:tiempo_respuesta, k:kfinal})\n",
    "solucion_final"
   ]
  },
  {
   "cell_type": "code",
   "execution_count": 14,
   "id": "c45fdc0d",
   "metadata": {},
   "outputs": [
    {
     "data": {
      "text/latex": [
       "$\\displaystyle 73.9992$"
      ],
      "text/plain": [
       "73.9992"
      ]
     },
     "execution_count": 14,
     "metadata": {},
     "output_type": "execute_result"
    }
   ],
   "source": [
    "constante_final = solve(solucion_final)\n",
    "constante_final = constante_final[0]\n",
    "constante_final = round(constante_final, 4)\n",
    "constante_final"
   ]
  },
  {
   "cell_type": "code",
   "execution_count": 15,
   "id": "69f8ff29",
   "metadata": {},
   "outputs": [
    {
     "data": {
      "text/latex": [
       "$\\displaystyle T{\\left(t \\right)} = 21 + 73.9992 e^{- 0.0453 t}$"
      ],
      "text/plain": [
       "Eq(T(t), 21 + 73.9992*exp(-0.0453*t))"
      ]
     },
     "execution_count": 15,
     "metadata": {},
     "output_type": "execute_result"
    }
   ],
   "source": [
    "solucion_particular = solucion_especifica.subs({'C1': constante_final, k:kfinal})\n",
    "solucion_particular"
   ]
  },
  {
   "cell_type": "code",
   "execution_count": 16,
   "id": "2b6edff9",
   "metadata": {},
   "outputs": [
    {
     "data": {
      "image/png": "[encoded data removed]",
      "text/plain": [
       "<Figure size 640x480 with 1 Axes>"
      ]
     },
     "metadata": {},
     "output_type": "display_data"
    },
    {
     "data": {
      "text/plain": [
       "<sympy.plotting.plot.Plot at 0x10be000d0>"
      ]
     },
     "execution_count": 16,
     "metadata": {},
     "output_type": "execute_result"
    }
   ],
   "source": [
    "plot(solucion_particular.rhs, line_color='orange', show=True)"
   ]
  },
  {
   "cell_type": "markdown",
   "id": "1415b091",
   "metadata": {},
   "source": [
    "# Ejemplo 2:"
   ]
  },
  {
   "cell_type": "code",
   "execution_count": 17,
   "id": "1be1858e",
   "metadata": {},
   "outputs": [],
   "source": [
    "from sympy import *"
   ]
  },
  {
   "cell_type": "code",
   "execution_count": 18,
   "id": "77993c77",
   "metadata": {},
   "outputs": [],
   "source": [
    "# Definir las variables\n",
    "t, k, Ta, C = symbols('t k Ta C')\n",
    "T = Function('T')"
   ]
  },
  {
   "cell_type": "code",
   "execution_count": 19,
   "id": "000bd53c",
   "metadata": {},
   "outputs": [
    {
     "data": {
      "text/latex": [
       "$\\displaystyle \\frac{d}{d t} T{\\left(t \\right)} = k \\left(- Ta + T{\\left(t \\right)}\\right)$"
      ],
      "text/plain": [
       "Eq(Derivative(T(t), t), k*(-Ta + T(t)))"
      ]
     },
     "execution_count": 19,
     "metadata": {},
     "output_type": "execute_result"
    }
   ],
   "source": [
    "# Definir la ecuación diferencial\n",
    "ecuacion_diferencial = Eq(T(t).diff(t), +k * (T(t) - Ta))\n",
    "ecuacion_diferencial"
   ]
  },
  {
   "cell_type": "code",
   "execution_count": 20,
   "id": "7a88fc97",
   "metadata": {},
   "outputs": [
    {
     "data": {
      "text/latex": [
       "$\\displaystyle T{\\left(t \\right)} = C_{1} e^{k t} + Ta$"
      ],
      "text/plain": [
       "Eq(T(t), C1*exp(k*t) + Ta)"
      ]
     },
     "execution_count": 20,
     "metadata": {},
     "output_type": "execute_result"
    }
   ],
   "source": [
    "# Resolver la ecuación diferencial\n",
    "solucion = dsolve(ecuacion_diferencial)\n",
    "\n",
    "# Mostrar la solución\n",
    "solucion"
   ]
  },
  {
   "cell_type": "code",
   "execution_count": 21,
   "id": "bf1b6e83",
   "metadata": {},
   "outputs": [
    {
     "data": {
      "text/latex": [
       "$\\displaystyle T{\\left(t \\right)} = C_{1} e^{k t} + 70$"
      ],
      "text/plain": [
       "Eq(T(t), C1*exp(k*t) + 70)"
      ]
     },
     "execution_count": 21,
     "metadata": {},
     "output_type": "execute_result"
    }
   ],
   "source": [
    "# Sustituir Ta en la solución general\n",
    "solucion_especifica = solucion.subs(Ta, 70)\n",
    "\n",
    "# Mostrar la solución específica\n",
    "solucion_especifica"
   ]
  },
  {
   "cell_type": "code",
   "execution_count": 22,
   "id": "9d49a957",
   "metadata": {},
   "outputs": [
    {
     "data": {
      "text/latex": [
       "$\\displaystyle 80 = C_{1} + 70$"
      ],
      "text/plain": [
       "Eq(80, C1 + 70)"
      ]
     },
     "execution_count": 22,
     "metadata": {},
     "output_type": "execute_result"
    }
   ],
   "source": [
    "# Definir la condición inicial\n",
    "t0 = 0 # Tiempo a las 12\n",
    "T0 = 80 # Temperatura\n",
    "\n",
    "# Sustituir la condición inicial en la solución específica\n",
    "solucion_con_condicion_inicial = solucion_especifica.subs({T(t): T0, t:t0})\n",
    "solucion_con_condicion_inicial"
   ]
  },
  {
   "cell_type": "code",
   "execution_count": 23,
   "id": "7d516ef3",
   "metadata": {},
   "outputs": [
    {
     "data": {
      "text/latex": [
       "$\\displaystyle 10$"
      ],
      "text/plain": [
       "10"
      ]
     },
     "execution_count": 23,
     "metadata": {},
     "output_type": "execute_result"
    }
   ],
   "source": [
    "solx = solve(solucion_con_condicion_inicial)\n",
    "constante = solx[0]\n",
    "constante"
   ]
  },
  {
   "cell_type": "code",
   "execution_count": 24,
   "id": "c28a5748",
   "metadata": {},
   "outputs": [
    {
     "data": {
      "text/latex": [
       "$\\displaystyle T{\\left(t \\right)} = 10 e^{k t} + 70$"
      ],
      "text/plain": [
       "Eq(T(t), 10*exp(k*t) + 70)"
      ]
     },
     "execution_count": 24,
     "metadata": {},
     "output_type": "execute_result"
    }
   ],
   "source": [
    "solucion_con_constante = solucion_especifica.subs({'C1': constante})\n",
    "solucion_con_constante"
   ]
  },
  {
   "cell_type": "code",
   "execution_count": 25,
   "id": "cfdfa805",
   "metadata": {},
   "outputs": [
    {
     "data": {
      "text/latex": [
       "$\\displaystyle 75 = 10 e^{k} + 70$"
      ],
      "text/plain": [
       "Eq(75, 10*exp(k) + 70)"
      ]
     },
     "execution_count": 25,
     "metadata": {},
     "output_type": "execute_result"
    }
   ],
   "source": [
    "solucion = solucion_con_constante.subs({T(t):75 , t:1})\n",
    "solucion"
   ]
  },
  {
   "cell_type": "code",
   "execution_count": 26,
   "id": "f2677911",
   "metadata": {},
   "outputs": [
    {
     "data": {
      "text/latex": [
       "$\\displaystyle -0.6931$"
      ],
      "text/plain": [
       "-0.6931"
      ]
     },
     "execution_count": 26,
     "metadata": {},
     "output_type": "execute_result"
    }
   ],
   "source": [
    "soluciones = solve(solucion, k)\n",
    "\n",
    "soluciones_reales = [sol.evalf() for sol in soluciones if sol.is_real]\n",
    "soluciones_reales\n",
    "kx = soluciones_reales[0]\n",
    "kfinal = round(kx, 4)\n",
    "kfinal"
   ]
  },
  {
   "cell_type": "code",
   "execution_count": 27,
   "id": "21315502",
   "metadata": {},
   "outputs": [
    {
     "data": {
      "text/latex": [
       "$\\displaystyle T{\\left(t \\right)} = 70 + 10 e^{- 0.6931 t}$"
      ],
      "text/plain": [
       "Eq(T(t), 70 + 10*exp(-0.6931*t))"
      ]
     },
     "execution_count": 27,
     "metadata": {},
     "output_type": "execute_result"
    }
   ],
   "source": [
    "soluciont = solucion_con_constante.subs({k:kfinal})\n",
    "soluciont"
   ]
  },
  {
   "cell_type": "code",
   "execution_count": 28,
   "id": "a45240b3",
   "metadata": {},
   "outputs": [
    {
     "data": {
      "text/latex": [
       "$\\displaystyle 98.6 = 70 + 10 e^{- 0.6931 t}$"
      ],
      "text/plain": [
       "Eq(98.6, 70 + 10*exp(-0.6931*t))"
      ]
     },
     "execution_count": 28,
     "metadata": {},
     "output_type": "execute_result"
    }
   ],
   "source": [
    "Temperatura = 98.6 # Encontrar el tiempo inicial\n",
    "soluciont = soluciont.subs({T(t):Temperatura})\n",
    "soluciont"
   ]
  },
  {
   "cell_type": "code",
   "execution_count": null,
   "id": "8c5cef95",
   "metadata": {},
   "outputs": [],
   "source": [
    "soluciones_finales = solve(soluciont, t)\n",
    "soluciones_reales = [sol.evalf() for sol in soluciones_finales if sol.is_real]\n",
    "pprint(soluciones_reales)"
   ]
  }
 ],
 "metadata": {
  "kernelspec": {
   "display_name": "Python 3 (ipykernel)",
   "language": "python",
   "name": "python3"
  },
  "language_info": {
   "codemirror_mode": {
    "name": "ipython",
    "version": 3
   },
   "file_extension": ".py",
   "mimetype": "text/x-python",
   "name": "python",
   "nbconvert_exporter": "python",
   "pygments_lexer": "ipython3",
   "version": "3.11.4"
  }
 },
 "nbformat": 4,
 "nbformat_minor": 5
}

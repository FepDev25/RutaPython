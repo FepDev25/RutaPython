{
 "cells": [
  {
   "cell_type": "markdown",
   "id": "925cf6dd",
   "metadata": {},
   "source": [
    "# Sympy"
   ]
  },
  {
   "cell_type": "code",
   "execution_count": 1,
   "id": "42ea5a69",
   "metadata": {},
   "outputs": [],
   "source": [
    "from sympy import *"
   ]
  },
  {
   "cell_type": "code",
   "execution_count": 2,
   "id": "873c60f9",
   "metadata": {},
   "outputs": [
    {
     "name": "stdout",
     "output_type": "stream",
     "text": [
      "x\n"
     ]
    }
   ],
   "source": [
    "x = symbols('x')\n",
    "pprint(x)"
   ]
  },
  {
   "cell_type": "code",
   "execution_count": 3,
   "id": "f374775b",
   "metadata": {},
   "outputs": [
    {
     "data": {
      "text/latex": [
       "$\\displaystyle \\left(x + 1\\right)^{4}$"
      ],
      "text/plain": [
       "(x + 1)**4"
      ]
     },
     "execution_count": 3,
     "metadata": {},
     "output_type": "execute_result"
    }
   ],
   "source": [
    "f = (x + 1)**4\n",
    "f"
   ]
  },
  {
   "cell_type": "code",
   "execution_count": 4,
   "id": "4c0268c4",
   "metadata": {},
   "outputs": [
    {
     "data": {
      "text/latex": [
       "$\\displaystyle x^{4} + 4 x^{3} + 6 x^{2} + 4 x + 1$"
      ],
      "text/plain": [
       "x**4 + 4*x**3 + 6*x**2 + 4*x + 1"
      ]
     },
     "execution_count": 4,
     "metadata": {},
     "output_type": "execute_result"
    }
   ],
   "source": [
    "f_expand = expand(f)\n",
    "f_expand"
   ]
  },
  {
   "cell_type": "code",
   "execution_count": 5,
   "id": "85ed02ec",
   "metadata": {},
   "outputs": [
    {
     "data": {
      "text/latex": [
       "$\\displaystyle \\left(x + 1\\right)^{4}$"
      ],
      "text/plain": [
       "(x + 1)**4"
      ]
     },
     "execution_count": 5,
     "metadata": {},
     "output_type": "execute_result"
    }
   ],
   "source": [
    "f_fac = factor(f_expand)\n",
    "f_fac"
   ]
  },
  {
   "cell_type": "code",
   "execution_count": 6,
   "id": "8d7e8888",
   "metadata": {},
   "outputs": [
    {
     "data": {
      "text/latex": [
       "$\\displaystyle 81$"
      ],
      "text/plain": [
       "81"
      ]
     },
     "execution_count": 6,
     "metadata": {},
     "output_type": "execute_result"
    }
   ],
   "source": [
    "f.subs(x,2)"
   ]
  },
  {
   "cell_type": "code",
   "execution_count": 7,
   "id": "239bda71",
   "metadata": {},
   "outputs": [
    {
     "data": {
      "text/plain": [
       "(a, b)"
      ]
     },
     "execution_count": 7,
     "metadata": {},
     "output_type": "execute_result"
    }
   ],
   "source": [
    "a, b = symbols('a b')\n",
    "a, b"
   ]
  },
  {
   "cell_type": "code",
   "execution_count": 8,
   "id": "41f8d02a",
   "metadata": {},
   "outputs": [
    {
     "data": {
      "text/latex": [
       "$\\displaystyle \\sqrt{a^{2} + b^{2}}$"
      ],
      "text/plain": [
       "sqrt(a**2 + b**2)"
      ]
     },
     "execution_count": 8,
     "metadata": {},
     "output_type": "execute_result"
    }
   ],
   "source": [
    "c = sqrt(a**2 + b**2)\n",
    "c"
   ]
  },
  {
   "cell_type": "code",
   "execution_count": 9,
   "id": "644ee305",
   "metadata": {},
   "outputs": [
    {
     "data": {
      "text/latex": [
       "$\\displaystyle 5$"
      ],
      "text/plain": [
       "5"
      ]
     },
     "execution_count": 9,
     "metadata": {},
     "output_type": "execute_result"
    }
   ],
   "source": [
    "c.subs({a:3, b:4})"
   ]
  },
  {
   "cell_type": "code",
   "execution_count": 10,
   "id": "05a2d89e",
   "metadata": {},
   "outputs": [
    {
     "data": {
      "text/latex": [
       "$\\displaystyle \\left(x + 25\\right)^{2}$"
      ],
      "text/plain": [
       "(x + 25)**2"
      ]
     },
     "execution_count": 10,
     "metadata": {},
     "output_type": "execute_result"
    }
   ],
   "source": [
    "from sympy import *\n",
    "x = symbols('x')\n",
    "numero = 25\n",
    "fx = (x + numero)**2\n",
    "fx"
   ]
  },
  {
   "cell_type": "code",
   "execution_count": 11,
   "id": "19a0280d",
   "metadata": {},
   "outputs": [
    {
     "data": {
      "text/latex": [
       "$\\displaystyle x^{2} + 50 x + 625$"
      ],
      "text/plain": [
       "x**2 + 50*x + 625"
      ]
     },
     "execution_count": 11,
     "metadata": {},
     "output_type": "execute_result"
    }
   ],
   "source": [
    "f_expandx = expand(fx)\n",
    "f_expandx"
   ]
  },
  {
   "cell_type": "markdown",
   "id": "78828be8",
   "metadata": {},
   "source": [
    "# Simbolos y Expresiones"
   ]
  },
  {
   "cell_type": "code",
   "execution_count": 12,
   "id": "a0d7723d",
   "metadata": {},
   "outputs": [
    {
     "data": {
      "text/latex": [
       "$\\displaystyle x + 2 y$"
      ],
      "text/plain": [
       "x + 2*y"
      ]
     },
     "execution_count": 12,
     "metadata": {},
     "output_type": "execute_result"
    }
   ],
   "source": [
    "x, y = symbols('x y')\n",
    "expr = x + 2*y\n",
    "expr"
   ]
  },
  {
   "cell_type": "markdown",
   "id": "5fe2b161",
   "metadata": {},
   "source": [
    "# Manipulacion de Expresiones"
   ]
  },
  {
   "cell_type": "code",
   "execution_count": 13,
   "id": "ffcd3da1",
   "metadata": {},
   "outputs": [
    {
     "name": "stdout",
     "output_type": "stream",
     "text": [
      " 2          \n",
      "x  + 2⋅x + 1\n",
      "       2\n",
      "(x + 1) \n",
      " 2          \n",
      "x  + 2⋅x + 1\n"
     ]
    }
   ],
   "source": [
    "expr = x**2 + 2*x + 1\n",
    "simplified_expr = simplify(expr)\n",
    "factored_expr = factor(expr)\n",
    "expanded_expr = expand(factored_expr)\n",
    "\n",
    "pprint(simplified_expr)\n",
    "pprint(factored_expr)\n",
    "pprint(expanded_expr)\n"
   ]
  },
  {
   "cell_type": "markdown",
   "id": "e70706e7",
   "metadata": {},
   "source": [
    "# Calculo Diferencial"
   ]
  },
  {
   "cell_type": "markdown",
   "id": "ba8f89a8",
   "metadata": {},
   "source": [
    "Derivadas:"
   ]
  },
  {
   "cell_type": "code",
   "execution_count": 14,
   "id": "aeee1b4e",
   "metadata": {},
   "outputs": [
    {
     "data": {
      "text/latex": [
       "$\\displaystyle x^{2} + 2 x + 1$"
      ],
      "text/plain": [
       "x**2 + 2*x + 1"
      ]
     },
     "execution_count": 14,
     "metadata": {},
     "output_type": "execute_result"
    }
   ],
   "source": [
    "exprx = x**2 + 2*x + 1\n",
    "exprx"
   ]
  },
  {
   "cell_type": "code",
   "execution_count": 15,
   "id": "59de05ab",
   "metadata": {},
   "outputs": [
    {
     "data": {
      "image/png": "[encoded data removed]",
      "text/plain": [
       "<Figure size 640x480 with 1 Axes>"
      ]
     },
     "metadata": {},
     "output_type": "display_data"
    },
    {
     "data": {
      "text/plain": [
       "<sympy.plotting.plot.Plot at 0x10fa3c110>"
      ]
     },
     "execution_count": 15,
     "metadata": {},
     "output_type": "execute_result"
    }
   ],
   "source": [
    "plot(exprx, (x, -10, 10))"
   ]
  },
  {
   "cell_type": "code",
   "execution_count": 16,
   "id": "8e63e0b6",
   "metadata": {},
   "outputs": [
    {
     "data": {
      "text/latex": [
       "$\\displaystyle 2 x + 2$"
      ],
      "text/plain": [
       "2*x + 2"
      ]
     },
     "execution_count": 16,
     "metadata": {},
     "output_type": "execute_result"
    }
   ],
   "source": [
    "deriv = diff(exprx, x)\n",
    "deriv"
   ]
  },
  {
   "cell_type": "code",
   "execution_count": 17,
   "id": "daa81475",
   "metadata": {
    "scrolled": true
   },
   "outputs": [
    {
     "data": {
      "image/png": "[encoded data removed]",
      "text/plain": [
       "<Figure size 640x480 with 1 Axes>"
      ]
     },
     "metadata": {},
     "output_type": "display_data"
    },
    {
     "data": {
      "text/plain": [
       "<sympy.plotting.plot.Plot at 0x112ada4d0>"
      ]
     },
     "execution_count": 17,
     "metadata": {},
     "output_type": "execute_result"
    }
   ],
   "source": [
    "plot(deriv, (x, -5, 5))"
   ]
  },
  {
   "cell_type": "markdown",
   "id": "8825b9a0",
   "metadata": {},
   "source": [
    "Derivadas Parciales:"
   ]
  },
  {
   "cell_type": "code",
   "execution_count": 18,
   "id": "834e6c32",
   "metadata": {},
   "outputs": [
    {
     "data": {
      "text/latex": [
       "$\\displaystyle x^{2} + y^{3}$"
      ],
      "text/plain": [
       "x**2 + y**3"
      ]
     },
     "execution_count": 18,
     "metadata": {},
     "output_type": "execute_result"
    }
   ],
   "source": [
    "x = symbols('x')\n",
    "y = symbols('y')\n",
    "expr2 = x**2 + y**3\n",
    "expr2"
   ]
  },
  {
   "cell_type": "code",
   "execution_count": 19,
   "id": "a9d7f565",
   "metadata": {},
   "outputs": [
    {
     "data": {
      "text/latex": [
       "$\\displaystyle 2 x$"
      ],
      "text/plain": [
       "2*x"
      ]
     },
     "execution_count": 19,
     "metadata": {},
     "output_type": "execute_result"
    }
   ],
   "source": [
    "partial_deriv_x = diff(expr2, x)\n",
    "partial_deriv_x"
   ]
  },
  {
   "cell_type": "code",
   "execution_count": 20,
   "id": "f659ff65",
   "metadata": {},
   "outputs": [
    {
     "data": {
      "text/latex": [
       "$\\displaystyle 3 y^{2}$"
      ],
      "text/plain": [
       "3*y**2"
      ]
     },
     "execution_count": 20,
     "metadata": {},
     "output_type": "execute_result"
    }
   ],
   "source": [
    "partial_deriv_y = diff(expr2, y)\n",
    "partial_deriv_y"
   ]
  },
  {
   "cell_type": "markdown",
   "id": "d245d7f5",
   "metadata": {},
   "source": [
    "Limites:"
   ]
  },
  {
   "cell_type": "code",
   "execution_count": 21,
   "id": "e4b51738",
   "metadata": {},
   "outputs": [
    {
     "data": {
      "text/latex": [
       "$\\displaystyle \\frac{x^{2} - 1}{x - 1}$"
      ],
      "text/plain": [
       "(x**2 - 1)/(x - 1)"
      ]
     },
     "execution_count": 21,
     "metadata": {},
     "output_type": "execute_result"
    }
   ],
   "source": [
    "expr3 = (x**2 - 1)/(x - 1)\n",
    "expr3"
   ]
  },
  {
   "cell_type": "code",
   "execution_count": 22,
   "id": "6a31f126",
   "metadata": {},
   "outputs": [
    {
     "data": {
      "text/latex": [
       "$\\displaystyle 4$"
      ],
      "text/plain": [
       "4"
      ]
     },
     "execution_count": 22,
     "metadata": {},
     "output_type": "execute_result"
    }
   ],
   "source": [
    "limit_result = limit(expr, x, 1)\n",
    "limit_result"
   ]
  },
  {
   "cell_type": "markdown",
   "id": "da46f9a8",
   "metadata": {},
   "source": [
    "# Calculo Integral"
   ]
  },
  {
   "cell_type": "code",
   "execution_count": 23,
   "id": "7ef3d501",
   "metadata": {},
   "outputs": [
    {
     "data": {
      "text/latex": [
       "$\\displaystyle x^{2} + 2 x + 1$"
      ],
      "text/plain": [
       "x**2 + 2*x + 1"
      ]
     },
     "execution_count": 23,
     "metadata": {},
     "output_type": "execute_result"
    }
   ],
   "source": [
    "expr = x**2 + 2*x + 1\n",
    "expr"
   ]
  },
  {
   "cell_type": "code",
   "execution_count": 24,
   "id": "612458ad",
   "metadata": {},
   "outputs": [
    {
     "data": {
      "text/latex": [
       "$\\displaystyle \\frac{x^{3}}{3} + x^{2} + x$"
      ],
      "text/plain": [
       "x**3/3 + x**2 + x"
      ]
     },
     "execution_count": 24,
     "metadata": {},
     "output_type": "execute_result"
    }
   ],
   "source": [
    "integral = integrate(expr, x)\n",
    "integral"
   ]
  },
  {
   "cell_type": "code",
   "execution_count": 25,
   "id": "149af805",
   "metadata": {},
   "outputs": [
    {
     "data": {
      "text/latex": [
       "$\\displaystyle \\frac{x^{3}}{3} + x^{2} + 75 x$"
      ],
      "text/plain": [
       "x**3/3 + x**2 + 75*x"
      ]
     },
     "execution_count": 25,
     "metadata": {},
     "output_type": "execute_result"
    }
   ],
   "source": [
    "x = symbols('x')\n",
    "expr2 = x**2 + 2*x + 75\n",
    "integral = integrate(expr2, x)\n",
    "integral"
   ]
  },
  {
   "cell_type": "code",
   "execution_count": 26,
   "id": "b5f8ffd4",
   "metadata": {},
   "outputs": [
    {
     "data": {
      "text/latex": [
       "$\\displaystyle \\frac{x^{5} - 10 x}{2 x - 1}$"
      ],
      "text/plain": [
       "(x**5 - 10*x)/(2*x - 1)"
      ]
     },
     "execution_count": 26,
     "metadata": {},
     "output_type": "execute_result"
    }
   ],
   "source": [
    "expr4 = (x**5 - 10*x)/(x*2 - 1)\n",
    "expr4"
   ]
  },
  {
   "cell_type": "code",
   "execution_count": 27,
   "id": "0f659b98",
   "metadata": {},
   "outputs": [
    {
     "data": {
      "text/latex": [
       "$\\displaystyle \\frac{x^{5}}{10} + \\frac{x^{4}}{16} + \\frac{x^{3}}{24} + \\frac{x^{2}}{32} - \\frac{159 x}{32} - \\frac{159 \\log{\\left(2 x - 1 \\right)}}{64}$"
      ],
      "text/plain": [
       "x**5/10 + x**4/16 + x**3/24 + x**2/32 - 159*x/32 - 159*log(2*x - 1)/64"
      ]
     },
     "execution_count": 27,
     "metadata": {},
     "output_type": "execute_result"
    }
   ],
   "source": [
    "integral2 = integrate(expr4, x)\n",
    "integral2"
   ]
  },
  {
   "cell_type": "code",
   "execution_count": 28,
   "id": "f04b67a0",
   "metadata": {},
   "outputs": [
    {
     "data": {
      "image/png": "[encoded data removed]",
      "text/plain": [
       "<Figure size 640x480 with 1 Axes>"
      ]
     },
     "metadata": {},
     "output_type": "display_data"
    },
    {
     "data": {
      "text/plain": [
       "<sympy.plotting.plot.Plot at 0x112f5f810>"
      ]
     },
     "execution_count": 28,
     "metadata": {},
     "output_type": "execute_result"
    }
   ],
   "source": [
    "plot(integral2, (x, -5, 25))"
   ]
  },
  {
   "cell_type": "markdown",
   "id": "8140072b",
   "metadata": {},
   "source": [
    "Integrales Definidas\n"
   ]
  },
  {
   "cell_type": "code",
   "execution_count": 29,
   "id": "b05a20b4",
   "metadata": {},
   "outputs": [
    {
     "data": {
      "text/latex": [
       "$\\displaystyle x^{2} + 5$"
      ],
      "text/plain": [
       "x**2 + 5"
      ]
     },
     "execution_count": 29,
     "metadata": {},
     "output_type": "execute_result"
    }
   ],
   "source": [
    "expr5 = x**2 + 5\n",
    "expr5"
   ]
  },
  {
   "cell_type": "code",
   "execution_count": 30,
   "id": "7a4d1cb8",
   "metadata": {},
   "outputs": [
    {
     "data": {
      "text/latex": [
       "$\\displaystyle \\frac{x^{3}}{3} + 5 x$"
      ],
      "text/plain": [
       "x**3/3 + 5*x"
      ]
     },
     "execution_count": 30,
     "metadata": {},
     "output_type": "execute_result"
    }
   ],
   "source": [
    "indefinite_integral = integrate(expr5, x)\n",
    "indefinite_integral"
   ]
  },
  {
   "cell_type": "code",
   "execution_count": 31,
   "id": "9e630baf",
   "metadata": {},
   "outputs": [
    {
     "data": {
      "text/latex": [
       "$\\displaystyle \\frac{16}{3}$"
      ],
      "text/plain": [
       "16/3"
      ]
     },
     "execution_count": 31,
     "metadata": {},
     "output_type": "execute_result"
    }
   ],
   "source": [
    "definite_integral = integrate(expr5, (x, 0, 1))\n",
    "definite_integral"
   ]
  },
  {
   "cell_type": "markdown",
   "id": "0ecfeb57",
   "metadata": {},
   "source": [
    "# Ecuaciones diferenciales"
   ]
  },
  {
   "cell_type": "code",
   "execution_count": 32,
   "id": "a09033b8",
   "metadata": {},
   "outputs": [
    {
     "data": {
      "text/latex": [
       "$\\displaystyle 2 f{\\left(x \\right)} + \\frac{d}{d x} f{\\left(x \\right)} = 0$"
      ],
      "text/plain": [
       "Eq(2*f(x) + Derivative(f(x), x), 0)"
      ]
     },
     "execution_count": 32,
     "metadata": {},
     "output_type": "execute_result"
    }
   ],
   "source": [
    "x = symbols('x')\n",
    "f = Function('f')\n",
    "eq = Eq(Derivative(f(x), x) + 2*f(x), 0)\n",
    "eq"
   ]
  },
  {
   "cell_type": "code",
   "execution_count": 33,
   "id": "b251da9b",
   "metadata": {},
   "outputs": [
    {
     "data": {
      "text/latex": [
       "$\\displaystyle f{\\left(x \\right)} = C_{1} e^{- 2 x}$"
      ],
      "text/plain": [
       "Eq(f(x), C1*exp(-2*x))"
      ]
     },
     "execution_count": 33,
     "metadata": {},
     "output_type": "execute_result"
    }
   ],
   "source": [
    "solutionec = dsolve(eq)\n",
    "solutionec"
   ]
  },
  {
   "cell_type": "code",
   "execution_count": 34,
   "id": "9134e320",
   "metadata": {},
   "outputs": [
    {
     "data": {
      "text/latex": [
       "$\\displaystyle f{\\left(x \\right)} = 5 e^{- 2 x}$"
      ],
      "text/plain": [
       "Eq(f(x), 5*exp(-2*x))"
      ]
     },
     "execution_count": 34,
     "metadata": {},
     "output_type": "execute_result"
    }
   ],
   "source": [
    "initial_condition = {f(0): 5}\n",
    "particular_solution = dsolve(eq, ics=initial_condition)\n",
    "particular_solution"
   ]
  },
  {
   "cell_type": "code",
   "execution_count": 35,
   "id": "9d15ca15",
   "metadata": {},
   "outputs": [
    {
     "data": {
      "image/png": "[encoded data removed]",
      "text/plain": [
       "<Figure size 640x480 with 1 Axes>"
      ]
     },
     "metadata": {},
     "output_type": "display_data"
    },
    {
     "data": {
      "text/plain": [
       "<sympy.plotting.plot.Plot at 0x112fa4110>"
      ]
     },
     "execution_count": 35,
     "metadata": {},
     "output_type": "execute_result"
    }
   ],
   "source": [
    "plot(particular_solution.rhs, line_color='orange', show=True)"
   ]
  },
  {
   "cell_type": "code",
   "execution_count": 36,
   "id": "084ef6f8",
   "metadata": {},
   "outputs": [
    {
     "data": {
      "image/png": "[encoded data removed]",
      "text/plain": [
       "<Figure size 640x480 with 1 Axes>"
      ]
     },
     "metadata": {},
     "output_type": "display_data"
    },
    {
     "data": {
      "text/plain": [
       "<sympy.plotting.plot.Plot at 0x113094110>"
      ]
     },
     "execution_count": 36,
     "metadata": {},
     "output_type": "execute_result"
    }
   ],
   "source": [
    "x = symbols('x')\n",
    "f = Function('f')\n",
    "\n",
    "# Definir la EDO\n",
    "eq = Eq(Derivative(f(x), x) + 2*f(x), 0)\n",
    "\n",
    "# Resolver la EDO\n",
    "solution = dsolve(eq)\n",
    "\n",
    "# Supongamos que f(3) = 7 y encuentre la solución particular\n",
    "initial_condition = {f(3): 7}\n",
    "particular_solution = dsolve(eq, ics=initial_condition)\n",
    "\n",
    "# Visualizar la Solución Particular\n",
    "plot(particular_solution.rhs, line_color='orange', show=True)"
   ]
  },
  {
   "cell_type": "code",
   "execution_count": 37,
   "id": "9fc160cd",
   "metadata": {},
   "outputs": [
    {
     "data": {
      "text/latex": [
       "$\\displaystyle \\frac{d}{d x} f{\\left(x \\right)} + \\frac{f{\\left(x \\right)}}{x} = 0$"
      ],
      "text/plain": [
       "Eq(Derivative(f(x), x) + f(x)/x, 0)"
      ]
     },
     "execution_count": 37,
     "metadata": {},
     "output_type": "execute_result"
    }
   ],
   "source": [
    "x = symbols('x')\n",
    "f = Function('f')\n",
    "\n",
    "# Definir la EDO\n",
    "eq2 = Eq(Derivative(f(x), x) + (1/x)*f(x), 0)\n",
    "eq2"
   ]
  },
  {
   "cell_type": "code",
   "execution_count": 38,
   "id": "9a52bec7",
   "metadata": {},
   "outputs": [
    {
     "data": {
      "text/latex": [
       "$\\displaystyle f{\\left(x \\right)} = \\frac{C_{1}}{x}$"
      ],
      "text/plain": [
       "Eq(f(x), C1/x)"
      ]
     },
     "execution_count": 38,
     "metadata": {},
     "output_type": "execute_result"
    }
   ],
   "source": [
    "# Resolver la EDO\n",
    "solution2 = dsolve(eq2)\n",
    "solution2"
   ]
  },
  {
   "cell_type": "code",
   "execution_count": 39,
   "id": "cc4093e4",
   "metadata": {},
   "outputs": [
    {
     "data": {
      "text/latex": [
       "$\\displaystyle f{\\left(x \\right)} = \\frac{1}{x}$"
      ],
      "text/plain": [
       "Eq(f(x), 1/x)"
      ]
     },
     "execution_count": 39,
     "metadata": {},
     "output_type": "execute_result"
    }
   ],
   "source": [
    "# Supongamos que f(1) = 1 y encuentre la solución particular\n",
    "initial_condition2 = {f(1): 1}\n",
    "particular_solution2 = dsolve(eq2, ics=initial_condition2)\n",
    "particular_solution2"
   ]
  },
  {
   "cell_type": "code",
   "execution_count": 40,
   "id": "6fe0a62c",
   "metadata": {},
   "outputs": [
    {
     "data": {
      "image/png": "[encoded data removed]",
      "text/plain": [
       "<Figure size 640x480 with 1 Axes>"
      ]
     },
     "metadata": {},
     "output_type": "display_data"
    },
    {
     "data": {
      "text/plain": [
       "<sympy.plotting.plot.Plot at 0x1130bcc10>"
      ]
     },
     "execution_count": 40,
     "metadata": {},
     "output_type": "execute_result"
    }
   ],
   "source": [
    "# Visualizar la Solución Particular\n",
    "plot(particular_solution2.rhs, line_color='orange', show=True)"
   ]
  },
  {
   "cell_type": "code",
   "execution_count": 41,
   "id": "2ee422b5",
   "metadata": {},
   "outputs": [
    {
     "data": {
      "text/latex": [
       "$\\displaystyle \\frac{d}{d t} T{\\left(t \\right)} = k \\left(- Ta + T{\\left(t \\right)}\\right)$"
      ],
      "text/plain": [
       "Eq(Derivative(T(t), t), k*(-Ta + T(t)))"
      ]
     },
     "execution_count": 41,
     "metadata": {},
     "output_type": "execute_result"
    }
   ],
   "source": [
    "t, k, Ta = symbols('t k Ta')\n",
    "T = Function('T')\n",
    "\n",
    "# Definir la ecuación diferencial\n",
    "eq = Eq(T(t).diff(t), +k * (T(t) - Ta))\n",
    "eq"
   ]
  },
  {
   "cell_type": "code",
   "execution_count": 42,
   "id": "695d71c3",
   "metadata": {},
   "outputs": [
    {
     "data": {
      "text/latex": [
       "$\\displaystyle T{\\left(t \\right)} = C_{1} e^{k t} + Ta$"
      ],
      "text/plain": [
       "Eq(T(t), C1*exp(k*t) + Ta)"
      ]
     },
     "execution_count": 42,
     "metadata": {},
     "output_type": "execute_result"
    }
   ],
   "source": [
    "sol = dsolve(eq)\n",
    "sol"
   ]
  },
  {
   "cell_type": "code",
   "execution_count": 43,
   "id": "ef2b94d3",
   "metadata": {},
   "outputs": [
    {
     "data": {
      "text/latex": [
       "$\\displaystyle T{\\left(t \\right)} = C_{1} e^{k t} + 21$"
      ],
      "text/plain": [
       "Eq(T(t), C1*exp(k*t) + 21)"
      ]
     },
     "execution_count": 43,
     "metadata": {},
     "output_type": "execute_result"
    }
   ],
   "source": [
    "# Asignar una Temperatura ambiente\n",
    "Ta_value = 21\n",
    "\n",
    "# Sustituir Ta en la solución\n",
    "sol2 = sol.subs(Ta, Ta_value)\n",
    "sol2"
   ]
  },
  {
   "cell_type": "code",
   "execution_count": null,
   "id": "53e485f1",
   "metadata": {},
   "outputs": [],
   "source": []
  },
  {
   "cell_type": "code",
   "execution_count": 44,
   "id": "aafccfdf",
   "metadata": {},
   "outputs": [
    {
     "data": {
      "text/latex": [
       "$\\displaystyle T{\\left(0 \\right)} = C_{1} + 21$"
      ],
      "text/plain": [
       "Eq(T(0), C1 + 21)"
      ]
     },
     "execution_count": 44,
     "metadata": {},
     "output_type": "execute_result"
    }
   ],
   "source": [
    "# T = 0\n",
    "sol3 = sol2.subs(t, 0)\n",
    "sol3"
   ]
  },
  {
   "cell_type": "code",
   "execution_count": null,
   "id": "3ac42367",
   "metadata": {},
   "outputs": [],
   "source": []
  },
  {
   "cell_type": "markdown",
   "id": "7bbf98fe",
   "metadata": {},
   "source": [
    "# Graficos"
   ]
  },
  {
   "cell_type": "code",
   "execution_count": 45,
   "id": "a2d2fbd9",
   "metadata": {},
   "outputs": [
    {
     "data": {
      "image/png": "[encoded data removed]",
      "text/plain": [
       "<Figure size 640x480 with 1 Axes>"
      ]
     },
     "metadata": {},
     "output_type": "display_data"
    },
    {
     "data": {
      "text/plain": [
       "<sympy.plotting.plot.Plot at 0x112f5c510>"
      ]
     },
     "execution_count": 45,
     "metadata": {},
     "output_type": "execute_result"
    }
   ],
   "source": [
    "plot(x**2, (x, -5, 5))"
   ]
  },
  {
   "cell_type": "markdown",
   "id": "4015ae9f",
   "metadata": {},
   "source": [
    "# Trigonometria"
   ]
  },
  {
   "cell_type": "code",
   "execution_count": 46,
   "id": "c1f86bf8",
   "metadata": {},
   "outputs": [
    {
     "data": {
      "text/latex": [
       "$\\displaystyle \\sin{\\left(x \\right)}$"
      ],
      "text/plain": [
       "sin(x)"
      ]
     },
     "execution_count": 46,
     "metadata": {},
     "output_type": "execute_result"
    }
   ],
   "source": [
    "x = symbols('x')\n",
    "senx = sin(x)\n",
    "senx"
   ]
  },
  {
   "cell_type": "code",
   "execution_count": 47,
   "id": "5a27a103",
   "metadata": {},
   "outputs": [
    {
     "data": {
      "text/latex": [
       "$\\displaystyle \\cos{\\left(x \\right)}$"
      ],
      "text/plain": [
       "cos(x)"
      ]
     },
     "execution_count": 47,
     "metadata": {},
     "output_type": "execute_result"
    }
   ],
   "source": [
    "cosx = cos(x)\n",
    "cosx"
   ]
  },
  {
   "cell_type": "code",
   "execution_count": 48,
   "id": "632f5a72",
   "metadata": {},
   "outputs": [
    {
     "data": {
      "text/latex": [
       "$\\displaystyle \\tan{\\left(x \\right)}$"
      ],
      "text/plain": [
       "tan(x)"
      ]
     },
     "execution_count": 48,
     "metadata": {},
     "output_type": "execute_result"
    }
   ],
   "source": [
    "tanx = tan(x)\n",
    "tanx"
   ]
  },
  {
   "cell_type": "code",
   "execution_count": 49,
   "id": "834d5d8c",
   "metadata": {},
   "outputs": [
    {
     "data": {
      "text/latex": [
       "$\\displaystyle \\sec{\\left(x \\right)}$"
      ],
      "text/plain": [
       "sec(x)"
      ]
     },
     "execution_count": 49,
     "metadata": {},
     "output_type": "execute_result"
    }
   ],
   "source": [
    "secx = sec(x)\n",
    "secx"
   ]
  },
  {
   "cell_type": "markdown",
   "id": "4b7cb777",
   "metadata": {},
   "source": [
    "# Ejercicio:"
   ]
  },
  {
   "cell_type": "code",
   "execution_count": 50,
   "id": "88dd249d",
   "metadata": {},
   "outputs": [
    {
     "data": {
      "text/latex": [
       "$\\displaystyle \\frac{d}{d t} T{\\left(t \\right)} = k \\left(- Ta + T{\\left(t \\right)}\\right)$"
      ],
      "text/plain": [
       "Eq(Derivative(T(t), t), k*(-Ta + T(t)))"
      ]
     },
     "execution_count": 50,
     "metadata": {},
     "output_type": "execute_result"
    }
   ],
   "source": [
    "from sympy import symbols, Function, Eq, dsolve\n",
    "\n",
    "# Definir las variables\n",
    "t, k, Ta, C = symbols('t k Ta C')\n",
    "T = Function('T')\n",
    "\n",
    "# Definir la ecuación diferencial\n",
    "ecuacion_diferencial = Eq(T(t).diff(t), +k * (T(t) - Ta))\n",
    "ecuacion_diferencial"
   ]
  },
  {
   "cell_type": "code",
   "execution_count": 51,
   "id": "f14e5df0",
   "metadata": {},
   "outputs": [
    {
     "data": {
      "text/latex": [
       "$\\displaystyle T{\\left(t \\right)} = C_{1} e^{k t} + Ta$"
      ],
      "text/plain": [
       "Eq(T(t), C1*exp(k*t) + Ta)"
      ]
     },
     "execution_count": 51,
     "metadata": {},
     "output_type": "execute_result"
    }
   ],
   "source": [
    "# Resolver la ecuación diferencial\n",
    "solucion = dsolve(ecuacion_diferencial)\n",
    "\n",
    "# Mostrar la solución\n",
    "solucion"
   ]
  },
  {
   "cell_type": "code",
   "execution_count": 52,
   "id": "96c99d6a",
   "metadata": {},
   "outputs": [
    {
     "data": {
      "text/latex": [
       "$\\displaystyle T{\\left(t \\right)} = C_{1} e^{k t} + 21$"
      ],
      "text/plain": [
       "Eq(T(t), C1*exp(k*t) + 21)"
      ]
     },
     "execution_count": 52,
     "metadata": {},
     "output_type": "execute_result"
    }
   ],
   "source": [
    "# Sustituir Ta en la solución general\n",
    "solucion_especifica = solucion.subs(Ta, 21)\n",
    "\n",
    "# Mostrar la solución específica\n",
    "solucion_especifica"
   ]
  },
  {
   "cell_type": "code",
   "execution_count": 53,
   "id": "eece7e46",
   "metadata": {},
   "outputs": [
    {
     "data": {
      "text/latex": [
       "$\\displaystyle 95 = C_{1} + 21$"
      ],
      "text/plain": [
       "Eq(95, C1 + 21)"
      ]
     },
     "execution_count": 53,
     "metadata": {},
     "output_type": "execute_result"
    }
   ],
   "source": [
    "# Definir la condición inicial\n",
    "t_0 = 0 # Tiempo inicial\n",
    "T0 = 95 # Temperatura\n",
    "\n",
    "# Sustituir la condición inicial en la solución específica\n",
    "solucion_con_condicion_inicial = solucion_especifica.subs({T(t): T0, t:t_0})\n",
    "solucion_con_condicion_inicial"
   ]
  },
  {
   "cell_type": "code",
   "execution_count": 54,
   "id": "7d5522ce",
   "metadata": {},
   "outputs": [
    {
     "data": {
      "text/latex": [
       "$\\displaystyle 74$"
      ],
      "text/plain": [
       "74"
      ]
     },
     "execution_count": 54,
     "metadata": {},
     "output_type": "execute_result"
    }
   ],
   "source": [
    "solx = solve(solucion_con_condicion_inicial)\n",
    "constante = solx[0]\n",
    "constante"
   ]
  },
  {
   "cell_type": "code",
   "execution_count": 55,
   "id": "b12ea252",
   "metadata": {},
   "outputs": [
    {
     "data": {
      "text/latex": [
       "$\\displaystyle T{\\left(t \\right)} = 74 e^{k t} + 21$"
      ],
      "text/plain": [
       "Eq(T(t), 74*exp(k*t) + 21)"
      ]
     },
     "execution_count": 55,
     "metadata": {},
     "output_type": "execute_result"
    }
   ],
   "source": [
    "solucion_con_constante = solucion_especifica.subs({'C1': constante})\n",
    "solucion_con_constante"
   ]
  },
  {
   "cell_type": "code",
   "execution_count": 56,
   "id": "d51c3ee2",
   "metadata": {},
   "outputs": [
    {
     "data": {
      "text/latex": [
       "$\\displaystyle 80 = 74 e^{5 k} + 21$"
      ],
      "text/plain": [
       "Eq(80, 74*exp(5*k) + 21)"
      ]
     },
     "execution_count": 56,
     "metadata": {},
     "output_type": "execute_result"
    }
   ],
   "source": [
    "solucion = solucion_con_constante.subs({T(t):80 , t:5})\n",
    "solucion"
   ]
  },
  {
   "cell_type": "code",
   "execution_count": 57,
   "id": "0d46c1b8",
   "metadata": {},
   "outputs": [
    {
     "data": {
      "text/latex": [
       "$\\displaystyle -0.0453$"
      ],
      "text/plain": [
       "-0.0453"
      ]
     },
     "execution_count": 57,
     "metadata": {},
     "output_type": "execute_result"
    }
   ],
   "source": [
    "soluciones = solve(solucion, k)\n",
    "\n",
    "soluciones_reales = [sol.evalf() for sol in soluciones if sol.is_real]\n",
    "soluciones_reales\n",
    "kx = soluciones_reales[0]\n",
    "kfinal = round(kx, 4)\n",
    "kfinal"
   ]
  },
  {
   "cell_type": "code",
   "execution_count": 58,
   "id": "6e47508e",
   "metadata": {},
   "outputs": [
    {
     "data": {
      "text/latex": [
       "$\\displaystyle 50 = 21 + 74 e^{- 0.0453 t}$"
      ],
      "text/plain": [
       "Eq(50, 21 + 74*exp(-0.0453*t))"
      ]
     },
     "execution_count": 58,
     "metadata": {},
     "output_type": "execute_result"
    }
   ],
   "source": [
    "soluciont = solucion_con_constante.subs({k:kfinal, T(t):50})\n",
    "soluciont"
   ]
  },
  {
   "cell_type": "code",
   "execution_count": 59,
   "id": "511c8e1e",
   "metadata": {},
   "outputs": [
    {
     "data": {
      "text/latex": [
       "$\\displaystyle 20.6774678832199$"
      ],
      "text/plain": [
       "20.6774678832199"
      ]
     },
     "execution_count": 59,
     "metadata": {},
     "output_type": "execute_result"
    }
   ],
   "source": [
    "soluciones_finales = solve(soluciont, t)\n",
    "soluciones_reales = [sol.evalf() for sol in soluciones_finales if sol.is_real]\n",
    "tiempo_respuesta = soluciones_reales[0]\n",
    "tiempo_respuesta"
   ]
  },
  {
   "cell_type": "code",
   "execution_count": 60,
   "id": "f1aab0f8",
   "metadata": {},
   "outputs": [
    {
     "data": {
      "text/latex": [
       "$\\displaystyle 50 = 0.391896127338037 C_{1} + 21$"
      ],
      "text/plain": [
       "Eq(50, 0.391896127338037*C1 + 21)"
      ]
     },
     "execution_count": 60,
     "metadata": {},
     "output_type": "execute_result"
    }
   ],
   "source": [
    "# Temperatura = 50\n",
    "# tiempo: 20.67\n",
    "solucion_final = solucion_especifica.subs({T(t): 50, t:tiempo_respuesta, k:kfinal})\n",
    "solucion_final"
   ]
  },
  {
   "cell_type": "code",
   "execution_count": 61,
   "id": "848aef2d",
   "metadata": {},
   "outputs": [
    {
     "data": {
      "text/latex": [
       "$\\displaystyle 73.9992$"
      ],
      "text/plain": [
       "73.9992"
      ]
     },
     "execution_count": 61,
     "metadata": {},
     "output_type": "execute_result"
    }
   ],
   "source": [
    "constante_final = solve(solucion_final)\n",
    "constante_final = constante_final[0]\n",
    "constante_final = round(constante_final, 4)\n",
    "constante_final"
   ]
  },
  {
   "cell_type": "code",
   "execution_count": 65,
   "id": "23c1d8c0",
   "metadata": {},
   "outputs": [
    {
     "data": {
      "text/latex": [
       "$\\displaystyle T{\\left(t \\right)} = 21 + 73.9992 e^{- 0.0453 t}$"
      ],
      "text/plain": [
       "Eq(T(t), 21 + 73.9992*exp(-0.0453*t))"
      ]
     },
     "execution_count": 65,
     "metadata": {},
     "output_type": "execute_result"
    }
   ],
   "source": [
    "solucion_particular = solucion_especifica.subs({'C1': constante_final, k:kfinal})\n",
    "solucion_particular"
   ]
  },
  {
   "cell_type": "code",
   "execution_count": 66,
   "id": "20ae1fef",
   "metadata": {},
   "outputs": [
    {
     "data": {
      "image/png": "[encoded data removed]",
      "text/plain": [
       "<Figure size 640x480 with 1 Axes>"
      ]
     },
     "metadata": {},
     "output_type": "display_data"
    },
    {
     "data": {
      "text/plain": [
       "<sympy.plotting.plot.Plot at 0x11332d790>"
      ]
     },
     "execution_count": 66,
     "metadata": {},
     "output_type": "execute_result"
    }
   ],
   "source": [
    "plot(solucion_particular.rhs, line_color='orange', show=True)"
   ]
  },
  {
   "cell_type": "code",
   "execution_count": 76,
   "id": "f689d97b",
   "metadata": {},
   "outputs": [
    {
     "ename": "NameError",
     "evalue": "name 'T' is not defined",
     "output_type": "error",
     "traceback": [
      "\u001b[0;31m---------------------------------------------------------------------------\u001b[0m",
      "\u001b[0;31mNameError\u001b[0m                                 Traceback (most recent call last)",
      "Cell \u001b[0;32mIn[76], line 10\u001b[0m\n\u001b[1;32m      8\u001b[0m \u001b[38;5;66;03m# Generar datos para la gráfica\u001b[39;00m\n\u001b[1;32m      9\u001b[0m t_vals \u001b[38;5;241m=\u001b[39m np\u001b[38;5;241m.\u001b[39mlinspace(\u001b[38;5;241m0\u001b[39m, \u001b[38;5;241m100\u001b[39m, \u001b[38;5;241m100\u001b[39m)  \u001b[38;5;66;03m# Ajusta según tus necesidades\u001b[39;00m\n\u001b[0;32m---> 10\u001b[0m T_vals \u001b[38;5;241m=\u001b[39m funcion_solucion(t_vals)\n\u001b[1;32m     12\u001b[0m \u001b[38;5;66;03m# Graficar la solución\u001b[39;00m\n\u001b[1;32m     13\u001b[0m plt\u001b[38;5;241m.\u001b[39mplot(t_vals, T_vals, label\u001b[38;5;241m=\u001b[39m\u001b[38;5;124m'\u001b[39m\u001b[38;5;124mT(t) = 21 + 73.9992e^(-0.0453t)\u001b[39m\u001b[38;5;124m'\u001b[39m)\n",
      "File \u001b[0;32m<lambdifygenerated-1>:2\u001b[0m, in \u001b[0;36m_lambdifygenerated\u001b[0;34m(t)\u001b[0m\n\u001b[1;32m      1\u001b[0m \u001b[38;5;28;01mdef\u001b[39;00m \u001b[38;5;21m_lambdifygenerated\u001b[39m(t):\n\u001b[0;32m----> 2\u001b[0m     \u001b[38;5;28;01mreturn\u001b[39;00m equal(T(t), \u001b[38;5;241m21\u001b[39m \u001b[38;5;241m+\u001b[39m \u001b[38;5;241m73.9992\u001b[39m\u001b[38;5;241m*\u001b[39mexp(\u001b[38;5;241m-\u001b[39m\u001b[38;5;241m0.0453\u001b[39m\u001b[38;5;241m*\u001b[39mt))\n",
      "\u001b[0;31mNameError\u001b[0m: name 'T' is not defined"
     ]
    }
   ],
   "source": [
    "import numpy as np\n",
    "import matplotlib.pyplot as plt\n",
    "from sympy import symbols, exp, lambdify\n",
    "\n",
    "# Convertir la solución en una función numérica\n",
    "funcion_solucion = lambdify(t, solucion_particular, 'numpy')\n",
    "\n",
    "# Generar datos para la gráfica\n",
    "t_vals = np.linspace(0, 100, 100)  # Ajusta según tus necesidades\n",
    "T_vals = funcion_solucion(t_vals)\n",
    "\n",
    "# Graficar la solución\n",
    "plt.plot(t_vals, T_vals, label='T(t) = 21 + 73.9992e^(-0.0453t)')\n",
    "plt.title('Respuesta de la Ecuación Diferencial')\n",
    "plt.xlabel('Tiempo')\n",
    "plt.ylabel('T(t)')\n",
    "plt.legend()\n",
    "plt.grid(True)\n",
    "plt.show()"
   ]
  },
  {
   "cell_type": "code",
   "execution_count": 72,
   "id": "ac04cd32",
   "metadata": {},
   "outputs": [
    {
     "data": {
      "text/plain": [
       "  message: The solver successfully reached the end of the integration interval.\n",
       "  success: True\n",
       "   status: 0\n",
       "        t: [ 0.000e+00  2.525e-01 ...  2.475e+01  2.500e+01]\n",
       "        y: [[ 5.000e+00  4.875e+00 ...  4.214e-01  4.109e-01]]\n",
       "      sol: None\n",
       " t_events: None\n",
       " y_events: None\n",
       "     nfev: 32\n",
       "     njev: 0\n",
       "      nlu: 0"
      ]
     },
     "execution_count": 72,
     "metadata": {},
     "output_type": "execute_result"
    }
   ],
   "source": [
    "import numpy as np\n",
    "import matplotlib.pyplot as plt\n",
    "from scipy.integrate import solve_ivp\n",
    "\n",
    "# Define la ecuación diferencial\n",
    "def ecuacion_diferencial(t, y):\n",
    "    dydt = -0.1 * y  # Por ejemplo, una ecuación diferencial simple\n",
    "    return dydt\n",
    "\n",
    "# Condiciones iniciales\n",
    "y0 = [5.0]\n",
    "\n",
    "# Definir el rango de tiempo\n",
    "t_span = (0, 25)\n",
    "\n",
    "# Resolver la ecuación diferencial\n",
    "solucion = solve_ivp(ecuacion_diferencial, t_span, y0, method='RK45', t_eval=np.linspace(0, 25, 100))\n",
    "solucion"
   ]
  },
  {
   "cell_type": "code",
   "execution_count": 71,
   "id": "90577c98",
   "metadata": {},
   "outputs": [
    {
     "data": {
      "image/png": "[encoded data removed]",
      "text/plain": [
       "<Figure size 640x480 with 1 Axes>"
      ]
     },
     "metadata": {},
     "output_type": "display_data"
    }
   ],
   "source": [
    "# Graficar la solución\n",
    "plt.plot(solucion.t, solucion.y[0], label='Solución de la ecuación diferencial')\n",
    "plt.title('Respuesta de la Ecuación Diferencial')\n",
    "plt.xlabel('Tiempo')\n",
    "plt.ylabel('y(t)')\n",
    "plt.legend()\n",
    "plt.show()"
   ]
  }
 ],
 "metadata": {
  "kernelspec": {
   "display_name": "Python 3 (ipykernel)",
   "language": "python",
   "name": "python3"
  },
  "language_info": {
   "codemirror_mode": {
    "name": "ipython",
    "version": 3
   },
   "file_extension": ".py",
   "mimetype": "text/x-python",
   "name": "python",
   "nbconvert_exporter": "python",
   "pygments_lexer": "ipython3",
   "version": "3.11.4"
  }
 },
 "nbformat": 4,
 "nbformat_minor": 5
}

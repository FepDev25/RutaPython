{
 "cells": [
  {
   "cell_type": "code",
   "execution_count": 1,
   "id": "955b20d9",
   "metadata": {},
   "outputs": [],
   "source": [
    "from sympy import *"
   ]
  },
  {
   "cell_type": "code",
   "execution_count": 2,
   "id": "2c25674a",
   "metadata": {},
   "outputs": [],
   "source": [
    "# Definir las variables\n",
    "t, k = symbols('t k')\n",
    "T = Function('T')"
   ]
  },
  {
   "cell_type": "code",
   "execution_count": 3,
   "id": "68a6c365",
   "metadata": {},
   "outputs": [
    {
     "data": {
      "text/latex": [
       "$\\displaystyle \\frac{d}{d t} T{\\left(t \\right)} = k T{\\left(t \\right)}$"
      ],
      "text/plain": [
       "Eq(Derivative(T(t), t), k*T(t))"
      ]
     },
     "execution_count": 3,
     "metadata": {},
     "output_type": "execute_result"
    }
   ],
   "source": [
    "# Definir la ecuación diferencial\n",
    "ecuacion_diferencial = Eq(    T(t).diff(t), +k * T(t)    )\n",
    "ecuacion_diferencial"
   ]
  },
  {
   "cell_type": "code",
   "execution_count": 4,
   "id": "8f4db78a",
   "metadata": {},
   "outputs": [
    {
     "data": {
      "text/latex": [
       "$\\displaystyle T{\\left(t \\right)} = C_{1} e^{k t}$"
      ],
      "text/plain": [
       "Eq(T(t), C1*exp(k*t))"
      ]
     },
     "execution_count": 4,
     "metadata": {},
     "output_type": "execute_result"
    }
   ],
   "source": [
    "# Resolver la ecuación diferencial\n",
    "solucion1 = dsolve(ecuacion_diferencial)\n",
    "\n",
    "# Mostrar la solución\n",
    "solucion1"
   ]
  },
  {
   "cell_type": "code",
   "execution_count": 5,
   "id": "d073a0eb",
   "metadata": {},
   "outputs": [
    {
     "data": {
      "text/plain": [
       "[2300]"
      ]
     },
     "execution_count": 5,
     "metadata": {},
     "output_type": "execute_result"
    }
   ],
   "source": [
    "# En t = 0, habian 2300 transistores\n",
    "t_inicial = 1971\n",
    "t_0 = 1971 - t_inicial # Tiempo inicial\n",
    "Tr = 2300 # Transistores\n",
    "\n",
    "# Sustituir la condición inicial en la solución específica\n",
    "solx = solve(solucion1.subs({T(t): Tr, t:t_0}))\n",
    "solx"
   ]
  },
  {
   "cell_type": "code",
   "execution_count": 6,
   "id": "ee8cc6c3",
   "metadata": {},
   "outputs": [
    {
     "data": {
      "text/latex": [
       "$\\displaystyle 2300$"
      ],
      "text/plain": [
       "2300"
      ]
     },
     "execution_count": 6,
     "metadata": {},
     "output_type": "execute_result"
    }
   ],
   "source": [
    "sol_cons = solx[0]\n",
    "sol_cons"
   ]
  },
  {
   "cell_type": "code",
   "execution_count": 7,
   "id": "f1c45c44",
   "metadata": {},
   "outputs": [
    {
     "data": {
      "text/latex": [
       "$\\displaystyle T{\\left(t \\right)} = 2300 e^{k t}$"
      ],
      "text/plain": [
       "Eq(T(t), 2300*exp(k*t))"
      ]
     },
     "execution_count": 7,
     "metadata": {},
     "output_type": "execute_result"
    }
   ],
   "source": [
    "solucion_c = solucion1.subs({'C1': sol_cons})\n",
    "solucion_c"
   ]
  },
  {
   "cell_type": "code",
   "execution_count": 8,
   "id": "c45b05c9",
   "metadata": {},
   "outputs": [
    {
     "data": {
      "text/latex": [
       "$\\displaystyle 100000000 = 2300 e^{34 k}$"
      ],
      "text/plain": [
       "Eq(100000000, 2300*exp(34*k))"
      ]
     },
     "execution_count": 8,
     "metadata": {},
     "output_type": "execute_result"
    }
   ],
   "source": [
    "# Encontrar k en base a una condicion\n",
    "tiempo_condicion = 2005 - t_inicial\n",
    "transistores_condicion = 10**8\n",
    "condicion = solucion_c.subs({T(t):transistores_condicion , t:tiempo_condicion})\n",
    "condicion"
   ]
  },
  {
   "cell_type": "code",
   "execution_count": 9,
   "id": "02478647",
   "metadata": {},
   "outputs": [
    {
     "data": {
      "text/latex": [
       "$\\displaystyle 0.3141$"
      ],
      "text/plain": [
       "0.3141"
      ]
     },
     "execution_count": 9,
     "metadata": {},
     "output_type": "execute_result"
    }
   ],
   "source": [
    "k_const = solve(condicion)\n",
    "soluciones_reales = [sol.evalf() for sol in k_const if sol.is_real]\n",
    "kx = soluciones_reales[0]\n",
    "kfinal = round(kx, 4)\n",
    "kfinal"
   ]
  },
  {
   "cell_type": "code",
   "execution_count": 10,
   "id": "8d3b6b78",
   "metadata": {},
   "outputs": [
    {
     "data": {
      "text/latex": [
       "$\\displaystyle T{\\left(t \\right)} = 2300 e^{0.3141 t}$"
      ],
      "text/plain": [
       "Eq(T(t), 2300*exp(0.3141*t))"
      ]
     },
     "execution_count": 10,
     "metadata": {},
     "output_type": "execute_result"
    }
   ],
   "source": [
    "solucion = solucion_c.subs({k:kfinal})\n",
    "solucion"
   ]
  },
  {
   "cell_type": "code",
   "execution_count": null,
   "id": "74bb326c",
   "metadata": {},
   "outputs": [],
   "source": [
    "plot(solucion.rhs, line_color='orange', show=True)"
   ]
  },
  {
   "cell_type": "code",
   "execution_count": null,
   "id": "8c2d0c5c",
   "metadata": {},
   "outputs": [],
   "source": [
    "import numpy as np\n",
    "import matplotlib.pyplot as plt\n",
    "from sympy import symbols, Function, Eq, dsolve\n",
    "\n",
    "# Definir la variable simbólica\n",
    "t = symbols('t')\n",
    "\n",
    "# Definir la función T(t)\n",
    "T = Function('T')\n",
    "\n",
    "# Obtener la función T(t) de la solución\n",
    "T_funcion = solucion.rhs\n",
    "\n",
    "# Convertir la función en una función numérica\n",
    "T_numerica = lambdify(t, T_funcion, 'numpy')\n",
    "\n",
    "# Generar valores t en el rango deseado\n",
    "valores_t = np.linspace(0, 100, 10**12)\n",
    "\n",
    "# Evaluar la función numérica en los valores t\n",
    "valores_T = T_numerica(valores_t)\n",
    "\n",
    "# Graficar la función\n",
    "plt.plot(valores_t, valores_T, label=f'T(t) = {T_funcion}')\n",
    "plt.title('Gráfico de la Función T(t)')\n",
    "plt.xlabel('t')\n",
    "plt.ylabel('T(t)')\n",
    "plt.legend()\n",
    "plt.grid(True)\n",
    "plt.show()\n",
    "\n"
   ]
  },
  {
   "cell_type": "code",
   "execution_count": 11,
   "id": "0e5d8775",
   "metadata": {},
   "outputs": [
    {
     "data": {
      "text/latex": [
       "$\\displaystyle T{\\left(63 \\right)} = 9.028 \\cdot 10^{11}$"
      ],
      "text/plain": [
       "Eq(T(63), 9.028e+11)"
      ]
     },
     "execution_count": 11,
     "metadata": {},
     "output_type": "execute_result"
    }
   ],
   "source": [
    "# Incognita: T en 2023\n",
    "tiempo_incognita = 2034\n",
    "tiempo = tiempo_incognita - t_inicial\n",
    "solucion_incogita = solucion.subs({t:tiempo})\n",
    "solucion_incogita"
   ]
  },
  {
   "cell_type": "code",
   "execution_count": 14,
   "id": "0e773682",
   "metadata": {},
   "outputs": [
    {
     "data": {
      "text/latex": [
       "$\\displaystyle 1000000000000 = 2300 e^{0.3141 t}$"
      ],
      "text/plain": [
       "Eq(1000000000000, 2300*exp(0.3141*t))"
      ]
     },
     "execution_count": 14,
     "metadata": {},
     "output_type": "execute_result"
    }
   ],
   "source": [
    "# Incognita: t con 10**12\n",
    "Transistores_incognita = 10**12\n",
    "dividido = Transistores_incognita / 100\n",
    "\n",
    "solucion_incogita = solucion.subs({T(t):dividido})\n",
    "solucion_incogita"
   ]
  },
  {
   "cell_type": "code",
   "execution_count": null,
   "id": "a8c453e2",
   "metadata": {},
   "outputs": [],
   "source": []
  }
 ],
 "metadata": {
  "kernelspec": {
   "display_name": "Python 3 (ipykernel)",
   "language": "python",
   "name": "python3"
  },
  "language_info": {
   "codemirror_mode": {
    "name": "ipython",
    "version": 3
   },
   "file_extension": ".py",
   "mimetype": "text/x-python",
   "name": "python",
   "nbconvert_exporter": "python",
   "pygments_lexer": "ipython3",
   "version": "3.11.4"
  }
 },
 "nbformat": 4,
 "nbformat_minor": 5
}
